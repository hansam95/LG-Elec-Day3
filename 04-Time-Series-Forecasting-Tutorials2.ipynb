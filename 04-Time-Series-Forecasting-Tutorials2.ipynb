{
 "cells": [
  {
   "attachments": {},
   "cell_type": "markdown",
   "metadata": {},
   "source": [
    "# 04-Time Series Forecasting: Tutorial 2\n",
    "\n",
    "### - ARIMA \n",
    "### - Seasonal ARIMA (SARIMA)\n",
    "### - Prophet"
   ]
  },
  {
   "cell_type": "markdown",
   "metadata": {},
   "source": [
    "### 1. 모듈 불러오기"
   ]
  },
  {
   "cell_type": "code",
   "execution_count": null,
   "metadata": {},
   "outputs": [],
   "source": [
    "# !pip install pandas_datareader\n",
    "# !pip install yfinance\n",
    "# !pip install pmdarima\n",
    "\n",
    "# !conda install numpy cython -c conda-forge\n",
    "# !conda install matplotlib scipy pandas -c conda-forge\n",
    "# !conda install pystan -c conda-forge\n",
    "# !conda install -c anaconda ephem\n",
    "# !conda install -c conda-forge prophet\n",
    "\n",
    "import os\n",
    "\n",
    "import numpy as np\n",
    "import pandas as pd\n",
    "# import pandas_datareader.data as pdr\n",
    "\n",
    "import datetime\n",
    "\n",
    "from sklearn.model_selection import train_test_split\n",
    "from sklearn.metrics import mean_squared_error, mean_absolute_error, r2_score\n",
    "\n",
    "import matplotlib.pyplot as plt\n",
    "import matplotlib\n",
    "plt.style.use('seaborn-whitegrid')\n",
    "\n",
    "import statsmodels.api as sm\n",
    "from statsmodels.graphics.tsaplots import plot_acf, plot_pacf\n",
    "from statsmodels.tsa.arima_model import ARIMA\n",
    "from statsmodels.tsa.statespace.sarimax import SARIMAX \n",
    "from pmdarima.arima import auto_arima\n",
    "\n",
    "from statsmodels.tsa.holtwinters import ExponentialSmoothing\n",
    "\n",
    "import seaborn as sns\n",
    "import itertools\n",
    "#sns.set_style(\"white\")\n",
    "%matplotlib inline\n",
    "\n",
    "import warnings\n",
    "warnings.filterwarnings(action='ignore') \n",
    "\n",
    "import yfinance as yfin\n",
    "\n",
    "from prophet import Prophet"
   ]
  },
  {
   "cell_type": "markdown",
   "metadata": {},
   "source": [
    "### 2. 데이터 불러오기"
   ]
  },
  {
   "cell_type": "code",
   "execution_count": null,
   "metadata": {},
   "outputs": [],
   "source": [
    "data = pd.read_csv('AirPassengers.csv')\n",
    "data = data.rename(columns={'Month': 'month', '#Passengers': 'passengers'})\n",
    "data['month'] = pd.to_datetime(data['month'])\n",
    "data = data.set_index('month')\n",
    "data"
   ]
  },
  {
   "cell_type": "markdown",
   "metadata": {},
   "source": [
    "### 3. Box-Jenkins ARIMA Procedure\n",
    "-  3.1 Data Preprocessing\n",
    "-  3.2 Identify Model to be Tentatively Entertainted\n",
    "-  3.3 Estimate Parameters\n",
    "-  3.4 Diagnosis Check\n",
    "-  3.5 use Model to Forecast"
   ]
  },
  {
   "cell_type": "markdown",
   "metadata": {},
   "source": [
    "#### 3.1 Data Preprocessing"
   ]
  },
  {
   "cell_type": "code",
   "execution_count": null,
   "metadata": {},
   "outputs": [],
   "source": [
    "'''\n",
    "데이터 시각화를 통해 전체 개요 확인\n",
    "'''\n",
    "data.plot(figsize=(12,4)) # color='green', linestyle='--', linewidth=1\n",
    "\n",
    "plt.xticks(fontsize=11)\n",
    "plt.yticks(fontsize=11)\n",
    "plt.legend('')\n",
    "\n",
    "plt.title('Passenger Data \\n', fontsize=15)\n",
    "plt.xlabel('\\n Year', fontsize=13)\n",
    "plt.ylabel('Passenger \\n', fontsize=13)\n",
    "plt.tight_layout()\n",
    "plt.show()"
   ]
  },
  {
   "cell_type": "code",
   "execution_count": null,
   "metadata": {},
   "outputs": [],
   "source": [
    "# Seasonal decomposition plot: Seasonal decomposition using moving averages.\n",
    "# https://www.statsmodels.org/stable/generated/statsmodels.tsa.seasonal.seasonal_decompose.html\n",
    "\n",
    "# Observed: observed data\n",
    "# Trend: The estimated trend component\n",
    "# Seasonal: The estimated seasonal component\n",
    "# resid: The estimated residuals\n",
    "\n",
    "decomposition = sm.tsa.seasonal_decompose(data['passengers'],  model='additive')\n",
    "\n",
    "fig = decomposition.plot()\n",
    "fig.set_size_inches(10,10)\n",
    "plt.show()"
   ]
  },
  {
   "cell_type": "markdown",
   "metadata": {},
   "source": [
    "#### 3.2 Identify Model to be Tentatively Entertainted"
   ]
  },
  {
   "cell_type": "code",
   "execution_count": null,
   "metadata": {},
   "outputs": [],
   "source": [
    "# Train:Test = 8:2\n",
    "train, test = train_test_split(data, test_size=0.2, shuffle=False)"
   ]
  },
  {
   "cell_type": "code",
   "execution_count": null,
   "metadata": {},
   "outputs": [],
   "source": [
    "# ACF, PACF plot \n",
    "\n",
    "# https://www.statsmodels.org/stable/generated/statsmodels.graphics.tsaplots.plot_acf.html\n",
    "# https://www.statsmodels.org/stable/generated/statsmodels.graphics.tsaplots.plot_pacf.html\n",
    "\n",
    "fig, ax = plt.subplots(1,2,figsize=(10,5))\n",
    "fig.suptitle('Raw Data')\n",
    "sm.graphics.tsa.plot_acf(train.values.squeeze(), lags=30, ax=ax[0])\n",
    "sm.graphics.tsa.plot_pacf(train.values.squeeze(), lags=30, ax=ax[1]); # Modify not to generate graph twice"
   ]
  },
  {
   "cell_type": "code",
   "execution_count": null,
   "metadata": {},
   "outputs": [],
   "source": [
    "# Differencing\n",
    "\n",
    "diff_train = train.copy()\n",
    "diff_train = diff_train['passengers'].diff()\n",
    "diff_train = diff_train.dropna()\n",
    "print('####### Raw Data #######')\n",
    "print(train)\n",
    "print('### Differenced Data ###')\n",
    "print(diff_train)"
   ]
  },
  {
   "cell_type": "code",
   "execution_count": null,
   "metadata": {},
   "outputs": [],
   "source": [
    "# Differenced data plot\n",
    "\n",
    "plt.figure(figsize=(12,8))\n",
    "plt.subplot(211)\n",
    "plt.plot(train['passengers'])\n",
    "plt.legend(['Raw Data (Nonstationary)'])\n",
    "plt.subplot(212)\n",
    "plt.plot(diff_train,'orange') # first difference (t - (t-1))\n",
    "plt.legend(['Differenced Data (Stationary)'])\n",
    "plt.show()"
   ]
  },
  {
   "cell_type": "code",
   "execution_count": null,
   "metadata": {},
   "outputs": [],
   "source": [
    "# ACF, PACF plot \n",
    "\n",
    "fig, ax = plt.subplots(1,2,figsize=(10,5))\n",
    "fig.suptitle('Differenced Data')\n",
    "sm.graphics.tsa.plot_acf(diff_train.values.squeeze(), lags=30, ax=ax[0])\n",
    "sm.graphics.tsa.plot_pacf(diff_train.values.squeeze(), lags=30, ax=ax[1]); # Modify not to generate graph twice"
   ]
  },
  {
   "cell_type": "markdown",
   "metadata": {},
   "source": [
    "#### 3.3 Estimate Parameters"
   ]
  },
  {
   "cell_type": "code",
   "execution_count": null,
   "metadata": {},
   "outputs": [],
   "source": [
    "# ARIMA model fitting\n",
    "# The (p,d,q) order of the model for the number of AR parameters, differences, and MA parameters to use.\n",
    "\n",
    "ARIMA_model = ARIMA(train.values, order=(1,1,0))\n",
    "ARIMA_model_fit = ARIMA_model.fit()\n",
    "ARIMA_model_fit.summary()"
   ]
  },
  {
   "cell_type": "markdown",
   "metadata": {},
   "source": [
    "#### 3.4.1 Diagnosis Check - ARIMA"
   ]
  },
  {
   "cell_type": "code",
   "execution_count": null,
   "metadata": {},
   "outputs": [],
   "source": [
    "# Parameter search \n",
    "\n",
    "print('Examples of parameter combinations for ARIMA...')\n",
    "p = range(0, 3)\n",
    "d = range(1, 2)\n",
    "q = range(0, 3)\n",
    "pdq = list(itertools.product(p, d, q))\n",
    "\n",
    "aic=[]\n",
    "for i in pdq:\n",
    "    model = ARIMA(train.values, order=(i))\n",
    "    ARIMA_model_fit = model.fit()\n",
    "    print(f'ARIMA: {i} >> AIC : {round(ARIMA_model_fit.aic,2)}')\n",
    "    aic.append(round(ARIMA_model_fit.aic,2))"
   ]
  },
  {
   "cell_type": "code",
   "execution_count": null,
   "metadata": {},
   "outputs": [],
   "source": [
    "# Search optimal parameters\n",
    "\n",
    "ARIMA_optimal = [(pdq[i], j) for i, j in enumerate(aic) if j == min(aic)]\n",
    "ARIMA_optimal"
   ]
  },
  {
   "cell_type": "code",
   "execution_count": null,
   "metadata": {},
   "outputs": [],
   "source": [
    "ARIMA_model_opt = ARIMA(train.values, order=ARIMA_optimal[0][0])\n",
    "ARIMA_model_opt_fit = ARIMA_model_opt.fit()\n",
    "\n",
    "ARIMA_model_opt_fit.summary()"
   ]
  },
  {
   "cell_type": "markdown",
   "metadata": {},
   "source": [
    "#### 3.5.1 use Model to Forecast - ARIMA"
   ]
  },
  {
   "cell_type": "code",
   "execution_count": null,
   "metadata": {},
   "outputs": [],
   "source": [
    "ARIMA_prediction = ARIMA_model_opt_fit.forecast(len(test))\n",
    "ARIMA_test_pred = ARIMA_prediction[0]\n",
    "ARIMA_test_ub = ARIMA_prediction[2][:,0]\n",
    "ARIMA_test_lb = ARIMA_prediction[2][:,1]\n",
    "predict_index = list(test.index)\n",
    "r2 = r2_score(test, ARIMA_test_pred)"
   ]
  },
  {
   "cell_type": "code",
   "execution_count": null,
   "metadata": {},
   "outputs": [],
   "source": [
    "'''\n",
    "Quantitative Evaluation\n",
    "'''\n",
    "print('ARIMA')\n",
    "print('-'*30)\n",
    "print(f'MSE: {np.round(mean_squared_error(test, ARIMA_test_pred), 2)}')\n",
    "print(f'RMSE: {np.round(np.sqrt(mean_squared_error(test,ARIMA_test_pred)), 2)}')\n",
    "print(f'MAE: {np.round(mean_absolute_error(test, ARIMA_test_pred), 2)}')\n",
    "print(f'R2 score: {np.round(r2_score(test, ARIMA_test_pred), 2)}')"
   ]
  },
  {
   "cell_type": "code",
   "execution_count": null,
   "metadata": {},
   "outputs": [],
   "source": [
    "fig, ax = plt.subplots(figsize=(12, 6))\n",
    "ax.plot(data.index, data.values, label = 'Passengers')\n",
    "ax.vlines(datetime.datetime.strptime('1958-08-01','%Y-%m-%d'), 0, 800, linestyle='--', color='r', label='Start of Forecast')\n",
    "ax.plot(predict_index, ARIMA_test_pred, label = 'Prediction')\n",
    "ax.fill_between(predict_index, ARIMA_test_lb, ARIMA_test_ub, color = 'k', alpha = 0.1, label='0.95 Prediction Interval')\n",
    "ax.legend(loc='upper left')\n",
    "plt.suptitle(f'ARIMA {ARIMA_optimal[0][0]} Prediction Results (r2_score: {np.round(r2_score(test, ARIMA_test_pred), 2)}')\n",
    "plt.show()"
   ]
  },
  {
   "cell_type": "markdown",
   "metadata": {},
   "source": [
    "#### 3.4.2 Diagnosis Check - SARIMA"
   ]
  },
  {
   "cell_type": "code",
   "execution_count": null,
   "metadata": {},
   "outputs": [],
   "source": [
    "# Parameter search \n",
    "\n",
    "print('Examples of parameter combinations for Seasonal ARIMA...')\n",
    "p = range(0, 3)\n",
    "d = range(1, 2)\n",
    "q = range(0, 3)\n",
    "pdq = list(itertools.product(p, d, q))\n",
    "seasonal_pdq = [(x[0], x[1], x[2], 12) for x in list(itertools.product(p, d, q))]\n",
    "\n",
    "aic=[]\n",
    "params=[]\n",
    "for i in pdq:\n",
    "    for j in seasonal_pdq:\n",
    "        try:\n",
    "            model = SARIMAX(train.values, order=(i), seasonal_order = (j))\n",
    "            model_fit = model.fit()\n",
    "            print(f'SARIMA: {i}{j} >> AIC : {round(model_fit.aic,2)}')\n",
    "            aic.append(round(model_fit.aic,2))\n",
    "            params.append((i, j))  \n",
    "        except:\n",
    "            continue"
   ]
  },
  {
   "cell_type": "code",
   "execution_count": null,
   "metadata": {},
   "outputs": [],
   "source": [
    "# Search optimal parameters\n",
    "SARIMA_optimal = [(params[i], j) for i, j in enumerate(aic) if j == min(aic)]\n",
    "SARIMA_optimal"
   ]
  },
  {
   "cell_type": "code",
   "execution_count": null,
   "metadata": {},
   "outputs": [],
   "source": [
    "SARIMA_model_opt = SARIMAX(train.values, order=SARIMA_optimal[0][0][0], seasonal_order = SARIMA_optimal[0][0][1])\n",
    "SARIMA_model_opt_fit = SARIMA_model_opt.fit()\n",
    "\n",
    "SARIMA_model_opt_fit.summary()"
   ]
  },
  {
   "cell_type": "markdown",
   "metadata": {},
   "source": [
    "#### 3.5.2 use Model to Forecast - SARIMA"
   ]
  },
  {
   "cell_type": "code",
   "execution_count": null,
   "metadata": {},
   "outputs": [],
   "source": [
    "SARIMA_prediction = SARIMA_model_opt_fit.get_forecast(len(test))\n",
    "SARIMA_test_pred = SARIMA_prediction.predicted_mean\n",
    "SARIMA_test_ub = SARIMA_prediction.conf_int()[:,0]\n",
    "SARIMA_test_lb = SARIMA_prediction.conf_int()[:,1]\n",
    "predict_index = list(test.index)"
   ]
  },
  {
   "cell_type": "code",
   "execution_count": null,
   "metadata": {},
   "outputs": [],
   "source": [
    "'''\n",
    "Quantitative Evaluation\n",
    "'''\n",
    "print('SARIMA')\n",
    "print('-'*30)\n",
    "print(f'MSE: {np.round(mean_squared_error(test, SARIMA_test_pred), 2)}')\n",
    "print(f'RMSE: {np.round(np.sqrt(mean_squared_error(test,SARIMA_test_pred)), 2)}')\n",
    "print(f'MAE: {np.round(mean_absolute_error(test, SARIMA_test_pred), 2)}')\n",
    "print(f'R2 score: {np.round(r2_score(test, SARIMA_test_pred), 2)}')"
   ]
  },
  {
   "cell_type": "code",
   "execution_count": null,
   "metadata": {},
   "outputs": [],
   "source": [
    "fig, ax = plt.subplots(figsize=(12, 6))\n",
    "ax.plot(data.index, data.values, label = 'Passengers')\n",
    "ax.vlines(datetime.datetime.strptime('1958-08-01','%Y-%m-%d'), 0, 700, linestyle='--', color='r', label='Start of Forecast')\n",
    "ax.plot(predict_index, SARIMA_test_pred, label = 'Prediction')\n",
    "ax.fill_between(predict_index, SARIMA_test_lb, SARIMA_test_ub, color = 'k', alpha = 0.1, label='0.95 Prediction Interval')\n",
    "ax.legend(loc='upper left')\n",
    "plt.suptitle(f'SARIMA {SARIMA_optimal[0][0][0]},{SARIMA_optimal[0][0][1]} Prediction Results (r2_score: {np.round(r2_score(test, SARIMA_test_pred), 2)})')\n",
    "plt.show()"
   ]
  },
  {
   "cell_type": "markdown",
   "metadata": {},
   "source": [
    "#### 3.4.3 Diagnosis Check - auto_arima"
   ]
  },
  {
   "cell_type": "code",
   "execution_count": null,
   "metadata": {},
   "outputs": [],
   "source": [
    "# Parameter search \n",
    "\n",
    "auto_arima_model = auto_arima(train, start_p=1, start_q=1,\n",
    "                              max_p=3, max_q=3, m=12, seasonal=True,\n",
    "                              d=1, D=1, \n",
    "                              max_P=3, max_Q=3,\n",
    "                              trace=True,\n",
    "                              error_action='ignore',  \n",
    "                              suppress_warnings=True, \n",
    "                              stepwise=False)"
   ]
  },
  {
   "cell_type": "code",
   "execution_count": null,
   "metadata": {},
   "outputs": [],
   "source": [
    "auto_arima_model.summary()"
   ]
  },
  {
   "cell_type": "markdown",
   "metadata": {},
   "source": [
    "#### 3.5.3 use Model to Forecast - auto_arima"
   ]
  },
  {
   "cell_type": "code",
   "execution_count": null,
   "metadata": {},
   "outputs": [],
   "source": [
    "AUTO_ARIMA_prediction = auto_arima_model.predict(len(test), return_conf_int=True)\n",
    "AUTO_ARIMA_test_pred = AUTO_ARIMA_prediction[0]\n",
    "AUTO_ARIMA_test_ub = AUTO_ARIMA_prediction[1][:,0]\n",
    "AUTO_ARIMA_test_lb = AUTO_ARIMA_prediction[1][:,1]\n",
    "predict_index = list(test.index)"
   ]
  },
  {
   "cell_type": "code",
   "execution_count": null,
   "metadata": {},
   "outputs": [],
   "source": [
    "'''\n",
    "Quantitative Evaluation\n",
    "'''\n",
    "print('AUTO ARIMA')\n",
    "print('-'*30)\n",
    "print(f'MSE: {np.round(mean_squared_error(test, AUTO_ARIMA_test_pred), 2)}')\n",
    "print(f'RMSE: {np.round(np.sqrt(mean_squared_error(test,AUTO_ARIMA_test_pred)), 2)}')\n",
    "print(f'MAE: {np.round(mean_absolute_error(test, AUTO_ARIMA_test_pred), 2)}')\n",
    "print(f'R2 score: {np.round(r2_score(test, AUTO_ARIMA_test_pred), 2)}')"
   ]
  },
  {
   "cell_type": "code",
   "execution_count": null,
   "metadata": {
    "scrolled": false
   },
   "outputs": [],
   "source": [
    "fig, ax = plt.subplots(figsize=(12, 6))\n",
    "ax.plot(data.index, data.values, label = 'Passengers')\n",
    "ax.vlines(datetime.datetime.strptime('1958-08-01','%Y-%m-%d'), 0, 700, linestyle='--', color='r', label='Start of Forecast')\n",
    "ax.plot(predict_index, AUTO_ARIMA_test_pred, label = 'Prediction')\n",
    "ax.fill_between(predict_index, AUTO_ARIMA_test_lb, AUTO_ARIMA_test_ub, color = 'k', alpha = 0.1, label='0.95 Prediction Interval')\n",
    "ax.legend(loc='upper left')\n",
    "plt.suptitle(f'SARIMA {auto_arima_model.order},{auto_arima_model.seasonal_order} Prediction Results (r2_score: {np.round(r2_score(test, AUTO_ARIMA_test_pred), 2)})')\n",
    "plt.show()"
   ]
  },
  {
   "cell_type": "markdown",
   "metadata": {},
   "source": [
    "### 4. Prophet"
   ]
  },
  {
   "cell_type": "code",
   "execution_count": null,
   "metadata": {},
   "outputs": [],
   "source": [
    "train_prophet = train.reset_index()\n",
    "train_prophet"
   ]
  },
  {
   "cell_type": "code",
   "execution_count": null,
   "metadata": {},
   "outputs": [],
   "source": [
    "train_prophet.columns = ['ds', 'y']\n",
    "train_prophet"
   ]
  },
  {
   "cell_type": "code",
   "execution_count": null,
   "metadata": {},
   "outputs": [],
   "source": [
    "PRO_model = Prophet()\n",
    "PRO_model.fit(train_prophet)"
   ]
  },
  {
   "cell_type": "code",
   "execution_count": null,
   "metadata": {},
   "outputs": [],
   "source": [
    "test_prophet = test.reset_index()\n",
    "test_prophet.columns = ['ds', 'y']\n",
    "test_data_index = test_prophet[['ds']]\n",
    "test_data_index"
   ]
  },
  {
   "cell_type": "code",
   "execution_count": null,
   "metadata": {},
   "outputs": [],
   "source": [
    "PRO_prediction = PRO_model.predict(test_data_index)\n",
    "PRO_prediction"
   ]
  },
  {
   "cell_type": "code",
   "execution_count": null,
   "metadata": {},
   "outputs": [],
   "source": [
    "PRO_test_pred = PRO_prediction['yhat'].values\n",
    "PRO_test_ub = PRO_prediction['yhat_upper'].values\n",
    "PRO_test_lb = PRO_prediction['yhat_lower'].values\n",
    "predict_index = list(test.index)"
   ]
  },
  {
   "cell_type": "code",
   "execution_count": null,
   "metadata": {},
   "outputs": [],
   "source": [
    "'''\n",
    "Quantitative Evaluation\n",
    "'''\n",
    "print('Prophet')\n",
    "print('-'*30)\n",
    "print(f'MSE: {np.round(mean_squared_error(test, PRO_test_pred), 2)}')\n",
    "print(f'RMSE: {np.round(np.sqrt(mean_squared_error(test,PRO_test_pred)), 2)}')\n",
    "print(f'MAE: {np.round(mean_absolute_error(test, PRO_test_pred), 2)}')\n",
    "print(f'R2 score: {np.round(r2_score(test, PRO_test_pred), 2)}')"
   ]
  },
  {
   "cell_type": "code",
   "execution_count": null,
   "metadata": {},
   "outputs": [],
   "source": [
    "fig, ax = plt.subplots(figsize=(12, 6))\n",
    "ax.plot(data.index, data.values, label = 'Passengers')\n",
    "ax.vlines(datetime.datetime.strptime('1958-08-01','%Y-%m-%d'), 0, 700, linestyle='--', color='r', label='Start of Forecast')\n",
    "ax.plot(predict_index, PRO_test_pred, label = 'Prediction')\n",
    "ax.fill_between(predict_index, PRO_test_lb, PRO_test_ub, color = 'k', alpha = 0.1, label='0.95 Prediction Interval')\n",
    "ax.legend(loc='upper left')\n",
    "plt.title(f'Prophet Prediction Results (r2_score: {np.round(r2_score(test, PRO_test_pred), 2)})')\n",
    "plt.show()"
   ]
  },
  {
   "cell_type": "code",
   "execution_count": null,
   "metadata": {},
   "outputs": [],
   "source": [
    "'''\n",
    "Moving Average\n",
    "'''\n",
    "MA_train_pred = train.rolling(5).mean() # Option: min_periods=1\n",
    "MA_train_pred.columns = ['MA_5']\n",
    "MA_test_pred = pd.DataFrame(np.array([MA_train_pred.iloc[-1]]*len(test)), index=test.index, columns=['MA_5'])\n",
    "\n",
    "'''\n",
    "Simple Eponential Smoothing\n",
    "'''\n",
    "L_0 = np.mean(train)  # initial value\n",
    "\n",
    "SES_train = train.copy()\n",
    "SES_train = pd.concat([pd.DataFrame(np.zeros(1), columns=['passengers']), SES_train])\n",
    "SES_train['Level'] = np.nan\n",
    "SES_train['Forecast'] = np.nan\n",
    "SES_train.loc[0,'Level'] = L_0.values\n",
    "\n",
    "SES_train_pred_09 = pd.concat([pd.DataFrame([L_0], columns=['passengers']), train]).ewm(alpha=0.9, adjust=False).mean().iloc[1:]\n",
    "SES_train_pred_09.columns = ['SES_09']\n",
    "SES_test_pred_09 = pd.DataFrame(np.array([SES_train_pred_09.iloc[-1]]*len(test)),\n",
    "                                index=test.index, columns=['SES_09'])\n",
    "\n",
    "'''\n",
    "Double Eponential Smoothing\n",
    "'''\n",
    "train_reg = train.reset_index()\n",
    "x = np.array(train_reg.index)\n",
    "y = train_reg['passengers']\n",
    "\n",
    "x = sm.add_constant(x)\n",
    "model = sm.OLS(y,x)\n",
    "results = model.fit()\n",
    "\n",
    "print(results.summary())\n",
    "L_0, B_0 = results.params\n",
    "\n",
    "DES_train = train.copy()\n",
    "DES_train = pd.concat([pd.DataFrame(np.zeros(1), columns=['passengers']), DES_train])\n",
    "DES_train['Level'] = np.nan\n",
    "DES_train['Trend'] = np.nan\n",
    "DES_train['Forecast'] = np.nan\n",
    "\n",
    "DES_train.loc[0,'Level'] = L_0\n",
    "DES_train.loc[0,'Trend'] = B_0\n",
    "\n",
    "def Double_Exponential_Smoothing(table, alpha, beta):\n",
    "    # table = DES_train.copy()\n",
    "    # alpha = 0.16\n",
    "    # beta = 0.1\n",
    "    for i in range(len(table)):\n",
    "        if i == 0: # Skip initialization point\n",
    "            continue\n",
    "\n",
    "        x = table.loc[list(table.index)[i],'passengers']\n",
    "        L_prev = table.loc[list(table.index)[i-1],'Level']\n",
    "        T_prev = table.loc[list(table.index)[i-1],'Trend']\n",
    "        \n",
    "        table.loc[list(table.index)[i],'Level'] = alpha*x + (1-alpha)*(L_prev+T_prev)\n",
    "        table.loc[list(table.index)[i],'Trend'] = beta*(table.loc[list(table.index)[i],'Level']-L_prev) + (1-beta)*(T_prev)\n",
    "\n",
    "        L_Pred = table.iloc[-1,1]\n",
    "        T_Pred = table.iloc[-1,2]\n",
    "        \n",
    "        DES_test_pred = L_Pred + range(len(test))*T_Pred\n",
    "        DES_test_pred = pd.DataFrame(DES_test_pred, index = test.index, columns=['DES'])\n",
    "        \n",
    "    return table, DES_test_pred\n",
    "\n",
    "DES_train_pred, DES_test_pred = Double_Exponential_Smoothing(DES_train, 0.1, 0.1)\n",
    "\n",
    "'''\n",
    "Additive Holt-winter\n",
    "'''\n",
    "\n",
    "HW_add_model = ExponentialSmoothing(train, trend='add', seasonal='add').fit(optimized=True)\n",
    "HW_add_train_pred = HW_add_model.fittedvalues\n",
    "HW_add_test_pred = HW_add_model.forecast(len(test))\n",
    "HW_add_test_pred = pd.DataFrame(HW_add_test_pred, index=test.index, columns=['HW_add'])\n",
    "\n",
    "\n",
    "'''\n",
    "Multiplicative Holt-winter\n",
    "'''\n",
    "HW_mul_model = ExponentialSmoothing(train, trend='mul', seasonal='mul').fit(optimized=True)\n",
    "HW_mul_train_pred = HW_mul_model.fittedvalues\n",
    "HW_mul_test_pred = HW_mul_model.forecast(len(test))\n",
    "HW_mul_test_pred = pd.DataFrame(HW_mul_test_pred, index=test.index, columns=['HW_mul'])\n"
   ]
  },
  {
   "cell_type": "code",
   "execution_count": null,
   "metadata": {},
   "outputs": [],
   "source": [
    "'''\n",
    "Quantitative Evaluation\n",
    "'''\n",
    "print('-'*55)\n",
    "print('Moving Average (N = 5)')\n",
    "print(f'MSE: {np.round(mean_squared_error(test, MA_test_pred), 2)}')\n",
    "print(f'RMSE: {np.round(np.sqrt(mean_squared_error(test,MA_test_pred)), 2)}')\n",
    "print(f'MAE: {np.round(mean_absolute_error(test, MA_test_pred), 2)}')\n",
    "print(f'R2 score: {np.round(r2_score(test, MA_test_pred), 2)}')\n",
    "\n",
    "print('-'*55)\n",
    "print('Simple Exponential Smoothing (alpha = 0.9)')\n",
    "print(f'MSE: {np.round(mean_squared_error(test, SES_test_pred_09), 2)}')\n",
    "print(f'RMSE: {np.round(np.sqrt(mean_squared_error(test,SES_test_pred_09)), 2)}')\n",
    "print(f'MAE: {np.round(mean_absolute_error(test, SES_test_pred_09), 2)}')\n",
    "print(f'R2 score: {np.round(r2_score(test, SES_test_pred_09), 2)}')\n",
    "\n",
    "print('-'*55)\n",
    "print('Double Exponential Smoothing (alpha = 0.16, beta = 0.1)')\n",
    "print(f'MSE: {np.round(mean_squared_error(test, DES_test_pred), 2)}')\n",
    "print(f'RMSE: {np.round(np.sqrt(mean_squared_error(test,DES_test_pred)), 2)}')\n",
    "print(f'MAE: {np.round(mean_absolute_error(test, DES_test_pred), 2)}')\n",
    "print(f'R2 score: {np.round(r2_score(test, DES_test_pred), 2)}')\n",
    "\n",
    "print('-'*55)\n",
    "print('Additive Holt-Winter Exponential Smoothing')\n",
    "print(f'MSE: {np.round(mean_squared_error(test, HW_add_test_pred), 2)}')\n",
    "print(f'RMSE: {np.round(np.sqrt(mean_squared_error(test,HW_add_test_pred)), 2)}')\n",
    "print(f'MAE: {np.round(mean_absolute_error(test, HW_add_test_pred), 2)}')\n",
    "print(f'R2 score: {np.round(r2_score(test, HW_add_test_pred), 2)}')\n",
    "\n",
    "print('-'*55)\n",
    "print('Multiplicative Holt-Winter Exponential Smoothing')\n",
    "print(f'MSE: {np.round(mean_squared_error(test, HW_mul_test_pred), 2)}')\n",
    "print(f'RMSE: {np.round(np.sqrt(mean_squared_error(test,HW_mul_test_pred)), 2)}')\n",
    "print(f'MAE: {np.round(mean_absolute_error(test, HW_mul_test_pred), 2)}')\n",
    "print(f'R2 score: {np.round(r2_score(test, HW_mul_test_pred), 2)}')\n",
    "\n",
    "print('-'*55)\n",
    "print(f'ARIMA {ARIMA_optimal[0][0]}')\n",
    "print(f'MSE: {np.round(mean_squared_error(test, ARIMA_test_pred), 2)}')\n",
    "print(f'RMSE: {np.round(np.sqrt(mean_squared_error(test,ARIMA_test_pred)), 2)}')\n",
    "print(f'MAE: {np.round(mean_absolute_error(test, ARIMA_test_pred), 2)}')\n",
    "print(f'R2 score: {np.round(r2_score(test, ARIMA_test_pred), 2)}')\n",
    "\n",
    "print('-'*55)\n",
    "print(f'SARIMA {SARIMA_optimal[0][0][0]},{SARIMA_optimal[0][0][1]}')\n",
    "print(f'MSE: {np.round(mean_squared_error(test, SARIMA_test_pred), 2)}')\n",
    "print(f'RMSE: {np.round(np.sqrt(mean_squared_error(test,SARIMA_test_pred)), 2)}')\n",
    "print(f'MAE: {np.round(mean_absolute_error(test, SARIMA_test_pred), 2)}')\n",
    "print(f'R2 score: {np.round(r2_score(test, SARIMA_test_pred), 2)}')\n",
    "\n",
    "print('-'*55)\n",
    "print('Prophet')\n",
    "print(f'MSE: {np.round(mean_squared_error(test, PRO_test_pred), 2)}')\n",
    "print(f'RMSE: {np.round(np.sqrt(mean_squared_error(test,PRO_test_pred)), 2)}')\n",
    "print(f'MAE: {np.round(mean_absolute_error(test, PRO_test_pred), 2)}')\n",
    "print(f'R2 score: {np.round(r2_score(test, PRO_test_pred), 2)}')"
   ]
  },
  {
   "cell_type": "markdown",
   "metadata": {},
   "source": [
    "### 5. Case Study: 주가예측"
   ]
  },
  {
   "cell_type": "code",
   "execution_count": null,
   "metadata": {},
   "outputs": [],
   "source": [
    "def get_code(df, name):\n",
    "    code = df.query(\"name=='{}'\".format(name))['code'].to_string(index=False)\n",
    "    code = code.strip()\n",
    "    return code"
   ]
  },
  {
   "cell_type": "code",
   "execution_count": null,
   "metadata": {},
   "outputs": [],
   "source": [
    "code_data = pd.read_html('http://kind.krx.co.kr/corpgeneral/corpList.do?method=download&searchType=13', header=0)[0]\n",
    "code_data # 2380 rows × 9 "
   ]
  },
  {
   "cell_type": "code",
   "execution_count": null,
   "metadata": {},
   "outputs": [],
   "source": [
    "code_data = code_data[['회사명', '종목코드']]\n",
    "code_data = code_data.rename(columns={'회사명': 'name', '종목코드': 'code'})\n",
    "code_data.code = code_data.code.map('{:06d}'.format)"
   ]
  },
  {
   "cell_type": "code",
   "execution_count": null,
   "metadata": {},
   "outputs": [],
   "source": [
    "import yfinance as yfin\n",
    "yfin.pdr_override()\n",
    "\n",
    "stock_code = get_code(code_data, 'LG전자')\n",
    "stock_code = stock_code + '.KS'\n",
    "stock_data = pdr.get_data_yahoo(stock_code)\n",
    "\n",
    "\n",
    "'''\n",
    "High: 장 중 제일 높았던 주가(고가)\n",
    "Low: 장 중 제일 낮았던 주가(저가)\n",
    "Open: 장 시작 때 주가(시가)\n",
    "Close: 장 닫을 때 주가(종가)\n",
    "Volume: 주식 거래량\n",
    "Adj Close: 주식의 분할, 배당, 배분 등을 고려해 조정한 종가\n",
    "\n",
    "'''\n",
    "\n",
    "stock_data"
   ]
  },
  {
   "cell_type": "code",
   "execution_count": null,
   "metadata": {},
   "outputs": [],
   "source": [
    "import yfinance as yfin\n",
    "yfin.pdr_override()\n",
    "\n",
    "stock_data = pdr.get_data_yahoo('TSLA', start = '2020-01-01', end = '2022-01-09')\n",
    "\n",
    "\n",
    "'''\n",
    "High: 장 중 제일 높았던 주가(고가)\n",
    "Low: 장 중 제일 낮았던 주가(저가)\n",
    "Open: 장 시작 때 주가(시가)\n",
    "Close: 장 닫을 때 주가(종가)\n",
    "Volume: 주식 거래량\n",
    "Adj Close: 주식의 분할, 배당, 배분 등을 고려해 조정한 종가\n",
    "\n",
    "'''\n",
    "\n",
    "stock_data"
   ]
  },
  {
   "cell_type": "code",
   "execution_count": null,
   "metadata": {},
   "outputs": [],
   "source": [
    "stock_data = stock_data[['Close']]\n",
    "\n",
    "fig, ax = plt.subplots(figsize=(12, 6))\n",
    "stock_data.plot(ax = ax)"
   ]
  },
  {
   "cell_type": "code",
   "execution_count": null,
   "metadata": {},
   "outputs": [],
   "source": [
    "from sklearn.model_selection import train_test_split\n",
    "stock_data_train, stock_data_test = train_test_split(stock_data, test_size=0.1, shuffle=False)"
   ]
  },
  {
   "cell_type": "code",
   "execution_count": null,
   "metadata": {},
   "outputs": [],
   "source": [
    "fig, ax = plt.subplots(1,2,figsize=(10,5))\n",
    "fig.suptitle('Raw Data')\n",
    "sm.graphics.tsa.plot_acf(stock_data_train.values.squeeze(), lags=40, ax=ax[0])\n",
    "sm.graphics.tsa.plot_pacf(stock_data_train.values.squeeze(), lags=40, ax=ax[1]); # Modify not to generate graph twice"
   ]
  },
  {
   "cell_type": "code",
   "execution_count": null,
   "metadata": {},
   "outputs": [],
   "source": [
    "diff_stock_data_train = stock_data_train.copy()\n",
    "diff_stock_data_train = diff_stock_data_train['Close'].diff()\n",
    "diff_stock_data_train = diff_stock_data_train.dropna()\n",
    "print('####### Raw Data #######')\n",
    "print(stock_data_train)\n",
    "print('### Differenced Data ###')\n",
    "print(diff_stock_data_train)"
   ]
  },
  {
   "cell_type": "code",
   "execution_count": null,
   "metadata": {},
   "outputs": [],
   "source": [
    "# Differenced data plot\n",
    "\n",
    "plt.figure(figsize=(12,8))\n",
    "plt.subplot(211)\n",
    "plt.plot(stock_data_train['Close'])\n",
    "plt.legend(['Raw Data (Nonstationary)'])\n",
    "plt.subplot(212)\n",
    "plt.plot(diff_stock_data_train,'orange') # first difference (t - (t-1))\n",
    "plt.legend(['Differenced Data (Stationary)'])\n",
    "plt.show()"
   ]
  },
  {
   "cell_type": "code",
   "execution_count": null,
   "metadata": {},
   "outputs": [],
   "source": [
    "fig, ax = plt.subplots(1,2,figsize=(10,5))\n",
    "fig.suptitle('Differenced Data')\n",
    "sm.graphics.tsa.plot_acf(diff_stock_data_train.values.squeeze(), lags=40, ax=ax[0])\n",
    "sm.graphics.tsa.plot_pacf(diff_stock_data_train.values.squeeze(), lags=40, ax=ax[1]); # Modify not to generate graph twice"
   ]
  },
  {
   "cell_type": "code",
   "execution_count": null,
   "metadata": {},
   "outputs": [],
   "source": [
    "# Parameter search \n",
    "\n",
    "auto_arima_model = auto_arima(stock_data_train, start_p=1, start_q=1,\n",
    "                              max_p=3, max_q=3, seasonal=False,\n",
    "                              d=1,\n",
    "                              trace=True,\n",
    "                              error_action='ignore',  \n",
    "                              suppress_warnings=True, \n",
    "                              stepwise=False)"
   ]
  },
  {
   "cell_type": "code",
   "execution_count": null,
   "metadata": {},
   "outputs": [],
   "source": [
    "auto_arima_model.summary()"
   ]
  },
  {
   "cell_type": "code",
   "execution_count": null,
   "metadata": {},
   "outputs": [],
   "source": [
    "AUTO_ARIMA_prediction = auto_arima_model.predict(len(stock_data_test), return_conf_int=True)\n",
    "AUTO_ARIMA_test_pred = AUTO_ARIMA_prediction[0]\n",
    "AUTO_ARIMA_test_ub = AUTO_ARIMA_prediction[1][:,0]\n",
    "AUTO_ARIMA_test_lb = AUTO_ARIMA_prediction[1][:,1]\n",
    "predict_index = list(stock_data_test.index)\n",
    "predict_index[0]"
   ]
  },
  {
   "cell_type": "code",
   "execution_count": null,
   "metadata": {},
   "outputs": [],
   "source": [
    "fig, ax = plt.subplots(figsize=(12, 6))\n",
    "ax.plot(stock_data.index, stock_data.values, label = 'Passengers')\n",
    "ax.vlines(datetime.datetime.strptime('2021-10-26','%Y-%m-%d'), 500, 1500, linestyle='--', color='r', label='Start of Forecast')\n",
    "ax.plot(predict_index, AUTO_ARIMA_test_pred, label = 'Prediction')\n",
    "ax.fill_between(predict_index, AUTO_ARIMA_test_lb, AUTO_ARIMA_test_ub, color = 'k', alpha = 0.1, label='0.95 Prediction Interval')\n",
    "ax.legend(loc='upper left')\n",
    "plt.suptitle(f'ARIMA {auto_arima_model.order},Prediction Results')\n",
    "plt.show()"
   ]
  },
  {
   "cell_type": "code",
   "execution_count": null,
   "metadata": {},
   "outputs": [],
   "source": [
    "stock_data_train_prophet = stock_data_train.reset_index()\n",
    "stock_data_train_prophet.columns = ['ds', 'y']\n",
    "\n",
    "PRO_model = Prophet()\n",
    "PRO_model.fit(stock_data_train_prophet)\n",
    "\n",
    "stock_data_test_prophet = stock_data_test.reset_index()\n",
    "stock_data_test_prophet.columns = ['ds', 'y']\n",
    "stock_data_test_index = stock_data_test_prophet[['ds']]"
   ]
  },
  {
   "cell_type": "code",
   "execution_count": null,
   "metadata": {},
   "outputs": [],
   "source": [
    "PRO_prediction = PRO_model.predict(stock_data_test_index)\n",
    "PRO_prediction"
   ]
  },
  {
   "cell_type": "code",
   "execution_count": null,
   "metadata": {},
   "outputs": [],
   "source": [
    "PRO_test_pred = PRO_prediction['yhat'].values\n",
    "PRO_test_ub = PRO_prediction['yhat_upper'].values\n",
    "PRO_test_lb = PRO_prediction['yhat_lower'].values\n",
    "predict_index = list(stock_data_test.index)"
   ]
  },
  {
   "cell_type": "code",
   "execution_count": null,
   "metadata": {},
   "outputs": [],
   "source": [
    "fig, ax = plt.subplots(figsize=(12, 6))\n",
    "ax.plot(stock_data.index, stock_data.values, label = 'Passengers')\n",
    "ax.vlines(datetime.datetime.strptime('2021-10-26','%Y-%m-%d'), 500, 1500, linestyle='--', color='r', label='Start of Forecast')\n",
    "ax.plot(predict_index, PRO_test_pred, label = 'Prediction')\n",
    "ax.fill_between(predict_index, PRO_test_lb, PRO_test_ub, color = 'k', alpha = 0.1, label='0.95 Prediction Interval')\n",
    "ax.legend(loc='upper left')\n",
    "plt.suptitle('Prophet Prediction Results')\n",
    "plt.show()"
   ]
  },
  {
   "cell_type": "markdown",
   "metadata": {},
   "source": [
    "# EOD"
   ]
  }
 ],
 "metadata": {
  "kernelspec": {
   "display_name": "Python 3",
   "language": "python",
   "name": "python3"
  },
  "language_info": {
   "codemirror_mode": {
    "name": "ipython",
    "version": 3
   },
   "file_extension": ".py",
   "mimetype": "text/x-python",
   "name": "python",
   "nbconvert_exporter": "python",
   "pygments_lexer": "ipython3",
   "version": "3.8.10 (default, Jun 22 2022, 20:18:18) \n[GCC 9.4.0]"
  },
  "toc": {
   "base_numbering": "1",
   "nav_menu": {},
   "number_sections": false,
   "sideBar": true,
   "skip_h1_title": false,
   "title_cell": "Table of Contents",
   "title_sidebar": "Contents",
   "toc_cell": false,
   "toc_position": {
    "height": "calc(100% - 180px)",
    "left": "10px",
    "top": "150px",
    "width": "357.431px"
   },
   "toc_section_display": true,
   "toc_window_display": true
  },
  "vscode": {
   "interpreter": {
    "hash": "e7370f93d1d0cde622a1f8e1c04877d8463912d04d973331ad4851f04de6915a"
   }
  }
 },
 "nbformat": 4,
 "nbformat_minor": 4
}
